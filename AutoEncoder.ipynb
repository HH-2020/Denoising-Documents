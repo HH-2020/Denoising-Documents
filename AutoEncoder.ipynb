{
 "cells": [
  {
   "cell_type": "code",
   "execution_count": 1,
   "id": "divine-detector",
   "metadata": {},
   "outputs": [],
   "source": [
    "import cv2\n",
    "import numpy as np\n",
    "import matplotlib.pyplot as plt\n",
    "import os\n",
    "from PIL import Image"
   ]
  },
  {
   "cell_type": "code",
   "execution_count": 2,
   "id": "international-center",
   "metadata": {},
   "outputs": [],
   "source": [
    "path = '~/Desktop/practice/denoising-dirty-documents/data'\n",
    "trainInPath = path + '/train'\n",
    "trainOutPath = path + '/train_cleaned'\n",
    "testPath = path + '/test'"
   ]
  },
  {
   "cell_type": "code",
   "execution_count": 3,
   "id": "developmental-authority",
   "metadata": {},
   "outputs": [],
   "source": [
    "def loadImg(path):\n",
    "    data = []\n",
    "    for title in sorted(os.listdir(path)):\n",
    "        img = cv2.imread(path + '/' + title)\n",
    "        #zero centre\n",
    "        img = np.asarray(img, dtype = np.float32)\n",
    "        img = img / 255.0\n",
    "        data.append(img)\n",
    "    return data\n",
    "\n",
    "def saveImg(path, data):\n",
    "    for i,img in enumerate(data):\n",
    "        img = np.asarray(img * 255.0, dtype = np.uint8)\n",
    "        Image.fromarray(img).save(path+'/'+str(i)+'.png')"
   ]
  },
  {
   "cell_type": "code",
   "execution_count": 4,
   "id": "divine-delight",
   "metadata": {},
   "outputs": [],
   "source": [
    "train = loadImg(trainInPath)\n",
    "train_cleaned = loadImg(trainOutPath)\n",
    "test = loadImg(testPath)"
   ]
  },
  {
   "cell_type": "code",
   "execution_count": null,
   "id": "nonprofit-worker",
   "metadata": {},
   "outputs": [],
   "source": []
  }
 ],
 "metadata": {
  "kernelspec": {
   "display_name": "Python 3",
   "language": "python",
   "name": "python3"
  },
  "language_info": {
   "codemirror_mode": {
    "name": "ipython",
    "version": 3
   },
   "file_extension": ".py",
   "mimetype": "text/x-python",
   "name": "python",
   "nbconvert_exporter": "python",
   "pygments_lexer": "ipython3",
   "version": "3.9.1"
  }
 },
 "nbformat": 4,
 "nbformat_minor": 5
}
